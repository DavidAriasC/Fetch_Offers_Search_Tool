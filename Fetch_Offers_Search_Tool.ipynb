{
  "cells": [
    {
      "cell_type": "markdown",
      "metadata": {
        "id": "jEHH8tpKs1WU"
      },
      "source": [
        "# Fetch Offers Search Tool\n",
        "\n",
        "## Introduction\n",
        "\n",
        "This notebook aims to build a text-based search tool for Fetch's offer data. The tool allows users to search for offers by entering text queries related to categories, brands, or retailers. It also provides a similarity score to rank the search results."
      ]
    },
    {
      "cell_type": "markdown",
      "source": [
        "**REQUIREMENTS**: Load the .csv"
      ],
      "metadata": {
        "id": "qpHb1_mCtkam"
      }
    },
    {
      "cell_type": "code",
      "execution_count": 1,
      "metadata": {
        "id": "13S3qDAhs1WV"
      },
      "outputs": [],
      "source": [
        "import pandas as pd\n",
        "import numpy as np\n",
        "from sklearn.feature_extraction.text import TfidfVectorizer\n",
        "from sklearn.metrics.pairwise import cosine_similarity"
      ]
    },
    {
      "cell_type": "markdown",
      "metadata": {
        "id": "JHXQqDYNs1WW"
      },
      "source": [
        "## Data Loading and Exploration\n",
        "\n",
        "### Load Data\n"
      ]
    },
    {
      "cell_type": "code",
      "execution_count": 2,
      "metadata": {
        "id": "Y8maTVg2s1WW"
      },
      "outputs": [],
      "source": [
        "# Load the datasets\n",
        "categories_df = pd.read_csv(\"categories.csv\")\n",
        "offer_retailer_df = pd.read_csv(\"offer_retailer.csv\")\n",
        "brand_category_df = pd.read_csv(\"brand_category.csv\")"
      ]
    },
    {
      "cell_type": "markdown",
      "metadata": {
        "id": "E11Dj-Gfs1WW"
      },
      "source": [
        "### Explore Data\n"
      ]
    },
    {
      "cell_type": "code",
      "execution_count": 3,
      "metadata": {
        "colab": {
          "base_uri": "https://localhost:8080/"
        },
        "id": "x9nN-gHAs1WW",
        "outputId": "68658801-dac6-4b63-8a18-c8eb72de287a"
      },
      "outputs": [
        {
          "output_type": "stream",
          "name": "stdout",
          "text": [
            "                            CATEGORY_ID             PRODUCT_CATEGORY  \\\n",
            "0  1f7d2fa7-a1d7-4969-aaf4-1244f232c175              Red Pasta Sauce   \n",
            "1  3e48a9b3-1ab2-4f2d-867d-4a30828afeab  Alfredo & White Pasta Sauce   \n",
            "2  09f3decc-aa93-460d-936c-0ddf06b055a3             Cooking & Baking   \n",
            "3  12a89b18-4c01-4048-94b2-0705e0a45f6b             Packaged Seafood   \n",
            "4  2caa015a-ca32-4456-a086-621446238783             Feminine Hygeine   \n",
            "\n",
            "  IS_CHILD_CATEGORY_TO  \n",
            "0          Pasta Sauce  \n",
            "1          Pasta Sauce  \n",
            "2               Pantry  \n",
            "3               Pantry  \n",
            "4    Health & Wellness  \n",
            "                                               OFFER            RETAILER  \\\n",
            "0     Spend $50 on a Full-Priced new Club Membership           SAMS CLUB   \n",
            "1       Beyond Meat® Plant-Based products, spend $25                 NaN   \n",
            "2           Good Humor Viennetta Frozen Vanilla Cake                 NaN   \n",
            "3  Butterball, select varieties, spend $10 at Dil...  DILLONS FOOD STORE   \n",
            "4  GATORADE® Fast Twitch®, 12-ounce 12 pack, at A...              AMAZON   \n",
            "\n",
            "         BRAND  \n",
            "0    SAMS CLUB  \n",
            "1  BEYOND MEAT  \n",
            "2   GOOD HUMOR  \n",
            "3   BUTTERBALL  \n",
            "4     GATORADE  \n",
            "              BRAND BRAND_BELONGS_TO_CATEGORY  RECEIPTS\n",
            "0  CASEYS GEN STORE          Tobacco Products   2950931\n",
            "1  CASEYS GEN STORE                    Mature   2859240\n",
            "2            EQUATE              Hair Removal    893268\n",
            "3         PALMOLIVE               Bath & Body    542562\n",
            "4              DAWN               Bath & Body    301844\n"
          ]
        }
      ],
      "source": [
        "# Display first few rows of each dataset\n",
        "print(categories_df.head())\n",
        "print(offer_retailer_df.head())\n",
        "print(brand_category_df.head())"
      ]
    },
    {
      "cell_type": "markdown",
      "metadata": {
        "id": "HabJIN0as1WW"
      },
      "source": [
        "# Data Preprocessing and Feature Engineering\n",
        "\n",
        "### Text Preprocessing"
      ]
    },
    {
      "cell_type": "code",
      "execution_count": 4,
      "metadata": {
        "id": "6bdyu2-5s1WW"
      },
      "outputs": [],
      "source": [
        "# Convert text columns to lower case\n",
        "offer_retailer_df['OFFER'] = offer_retailer_df['OFFER'].str.lower()\n",
        "categories_df['PRODUCT_CATEGORY'] = categories_df['PRODUCT_CATEGORY'].str.lower()\n",
        "brand_category_df['BRAND'] = brand_category_df['BRAND'].str.lower()"
      ]
    },
    {
      "cell_type": "markdown",
      "metadata": {
        "id": "yuCPMffys1WX"
      },
      "source": [
        "## NLP Model Development\n",
        "\n",
        "### TF-IDF Vectorization"
      ]
    },
    {
      "cell_type": "code",
      "execution_count": 5,
      "metadata": {
        "id": "6vyHiXWns1WX"
      },
      "outputs": [],
      "source": [
        "# Create a TF-IDF vectorizer\n",
        "vectorizer = TfidfVectorizer()\n",
        "\n",
        "# Fit and transform the 'OFFER' text data\n",
        "tfidf_matrix = vectorizer.fit_transform(offer_retailer_df['OFFER'])"
      ]
    },
    {
      "cell_type": "markdown",
      "metadata": {
        "id": "V1xOFc1fs1WX"
      },
      "source": [
        "## Search Functionality\n",
        "\n",
        "### Search by Category, Brand, and Retailer"
      ]
    },
    {
      "cell_type": "code",
      "execution_count": 6,
      "metadata": {
        "id": "QQvyC9lGs1WX"
      },
      "outputs": [],
      "source": [
        "def search_offers(query, search_type='CATEGORY'):\n",
        "    # Convert the query to lower case\n",
        "    query = query.lower()\n",
        "\n",
        "    # Vectorize the query\n",
        "    query_vector = vectorizer.transform([query])\n",
        "\n",
        "    # Calculate cosine similarity\n",
        "    similarity_scores = cosine_similarity(query_vector, tfidf_matrix)\n",
        "\n",
        "    # Create a DataFrame to hold the results\n",
        "    result_df = offer_retailer_df.copy()\n",
        "    result_df['similarity_score'] = similarity_scores[0]\n",
        "\n",
        "    # Filter by search_type if specified\n",
        "    if search_type == 'CATEGORY':\n",
        "        relevant_brands = brand_category_df[brand_category_df['BRAND_BELONGS_TO_CATEGORY'].str.lower() == query]['BRAND']\n",
        "        result_df = result_df[result_df['BRAND'].isin(relevant_brands)]\n",
        "    elif search_type == 'BRAND':\n",
        "        result_df = result_df[result_df['BRAND'] == query]\n",
        "    elif search_type == 'RETAILER':\n",
        "        result_df = result_df[result_df['RETAILER'].str.lower() == query]\n",
        "\n",
        "    # Sort by similarity score\n",
        "    result_df = result_df.sort_values(by='similarity_score', ascending=False)\n",
        "\n",
        "    return result_df[['OFFER', 'RETAILER', 'BRAND', 'similarity_score']]"
      ]
    },
    {
      "cell_type": "markdown",
      "metadata": {
        "id": "4yQpPF-Ts1WX"
      },
      "source": [
        "## Scoring Mechanism\n",
        "\n",
        "The scoring mechanism used here is cosine similarity, which measures the cosine of the angle between two vectors in a multidimensional space. The similarity score ranges from 0 to 1, where 1 means the vectors are identical.\n",
        "\n",
        "## Conclusion and Next Steps\n",
        "\n",
        "This notebook provides a simple yet effective text-based search tool for offers. Future improvements could include using more advanced NLP techniques and deploying the tool as a web application.\n",
        "\n"
      ]
    }
  ],
  "metadata": {
    "kernelspec": {
      "display_name": "Python 3",
      "language": "python",
      "name": "python3"
    },
    "language_info": {
      "name": "python",
      "version": "3.7"
    },
    "colab": {
      "provenance": []
    }
  },
  "nbformat": 4,
  "nbformat_minor": 0
}